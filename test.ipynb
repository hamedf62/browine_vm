{
 "cells": [
  {
   "cell_type": "code",
   "execution_count": 2,
   "metadata": {},
   "outputs": [
    {
     "name": "stdout",
     "output_type": "stream",
     "text": [
      "default account balance: 0x33473533dBFb294d54CCeDD8fc4301854DfD1948 100000000000000000000\n"
     ]
    }
   ],
   "source": [
    "from ape import Contract, chain, networks,accounts,project,convert,api\n",
    "from web3 import Web3, AsyncWeb3\n",
    "import json\n",
    "\n",
    "\n",
    "w3 = Web3(Web3.HTTPProvider('http://127.0.0.1:7545'))\n",
    "w3.is_connected()\n",
    "\n",
    "w3.eth.default_account = w3.eth.accounts[0]\n",
    "print(\"default account balance:\",w3.eth.default_account, w3.eth.get_balance(w3.eth.default_account))"
   ]
  },
  {
   "cell_type": "code",
   "execution_count": 3,
   "metadata": {},
   "outputs": [
    {
     "data": {
      "text/plain": [
       "<CF>"
      ]
     },
     "execution_count": 3,
     "metadata": {},
     "output_type": "execute_result"
    }
   ],
   "source": [
    "project.CF"
   ]
  },
  {
   "cell_type": "code",
   "execution_count": 4,
   "metadata": {},
   "outputs": [
    {
     "name": "stdout",
     "output_type": "stream",
     "text": [
      "INFO: Starting 'Ganache' process.\n",
      "{'contractName': 'CF', 'sourceId': 'crowdfunding.sol', 'deploymentBytecode': {'bytecode': '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'}, 'runtimeBytecode': {'bytecode': '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'}, 'abi': [{'type': 'constructor', 'stateMutability': 'nonpayable', 'inputs': [{'name': '_goalAmount', 'type': 'uint256', 'internalType': 'uint256'}]}, {'type': 'event', 'name': 'FundingGoalReached', 'inputs': [{'name': 'totalFunding', 'type': 'uint256', 'internalType': 'uint256', 'indexed': False}], 'anonymous': False}, {'type': 'event', 'name': 'FundingReceived', 'inputs': [{'name': 'contributor', 'type': 'address', 'internalType': 'address', 'indexed': False}, {'name': 'amount', 'type': 'uint256', 'internalType': 'uint256', 'indexed': False}], 'anonymous': False}, {'type': 'event', 'name': 'ProjectCompleted', 'inputs': [{'name': 'success', 'type': 'bool', 'internalType': 'bool', 'indexed': False}], 'anonymous': False}, {'type': 'event', 'name': 'RefundedContributor', 'inputs': [{'name': 'contributor', 'type': 'address', 'internalType': 'address', 'indexed': False}, {'name': 'amount', 'type': 'uint256', 'internalType': 'uint256', 'indexed': False}, {'name': 'timestamp', 'type': 'uint256', 'internalType': 'uint256', 'indexed': False}], 'anonymous': False}, {'type': 'function', 'name': 'completeProject', 'stateMutability': 'nonpayable', 'inputs': [], 'outputs': [{'name': '', 'type': 'bool', 'internalType': 'bool'}]}, {'type': 'function', 'name': 'contribute', 'stateMutability': 'payable', 'inputs': [], 'outputs': []}, {'type': 'function', 'name': 'contributors', 'stateMutability': 'view', 'inputs': [{'name': '', 'type': 'uint256', 'internalType': 'uint256'}], 'outputs': [{'name': 'contributorAddress', 'type': 'address', 'internalType': 'address'}, {'name': 'contributionAmount', 'type': 'uint256', 'internalType': 'uint256'}, {'name': 'contributionDateTime', 'type': 'uint256', 'internalType': 'uint256'}]}, {'type': 'function', 'name': 'fundingGoalReached', 'stateMutability': 'view', 'inputs': [], 'outputs': [{'name': '', 'type': 'bool', 'internalType': 'bool'}]}, {'type': 'function', 'name': 'getContributorCount', 'stateMutability': 'view', 'inputs': [], 'outputs': [{'name': '', 'type': 'uint256', 'internalType': 'uint256'}]}, {'type': 'function', 'name': 'getContributors', 'stateMutability': 'view', 'inputs': [], 'outputs': [{'name': '', 'type': 'address[]', 'internalType': 'address[]'}, {'name': '', 'type': 'uint256[]', 'internalType': 'uint256[]'}, {'name': '', 'type': 'uint256[]', 'internalType': 'uint256[]'}]}, {'type': 'function', 'name': 'goalAmount', 'stateMutability': 'view', 'inputs': [], 'outputs': [{'name': '', 'type': 'uint256', 'internalType': 'uint256'}]}, {'type': 'function', 'name': 'isOwner', 'stateMutability': 'view', 'inputs': [], 'outputs': [{'name': '', 'type': 'address', 'internalType': 'address'}]}, {'type': 'function', 'name': 'projectCompleted', 'stateMutability': 'view', 'inputs': [], 'outputs': [{'name': '', 'type': 'bool', 'internalType': 'bool'}]}, {'type': 'function', 'name': 'projectOwner', 'stateMutability': 'view', 'inputs': [], 'outputs': [{'name': '', 'type': 'address', 'internalType': 'address'}]}, {'type': 'function', 'name': 'refundContributors', 'stateMutability': 'nonpayable', 'inputs': [], 'outputs': []}, {'type': 'function', 'name': 'totalFunding', 'stateMutability': 'view', 'inputs': [], 'outputs': [{'name': '', 'type': 'uint256', 'internalType': 'uint256'}]}, {'type': 'function', 'name': 'withdrawFunds', 'stateMutability': 'nonpayable', 'inputs': [], 'outputs': []}], 'sourcemap': '93:5762:0:-:0;;;860:179;;;;;;;;;;;;;;;;;;;;;;;;;;;;:::i;:::-;903:12;:25;;-1:-1:-1;;;;;;903:25:0;918:10;903:25;;;;938:24;972:18;:26;;-1:-1:-1;;1008:24:0;;;93:5762;;14:184:1;84:6;137:2;125:9;116:7;112:23;108:32;105:52;;;153:1;150;143:12;105:52;-1:-1:-1;176:16:1;;14:184;-1:-1:-1;14:184:1:o;:::-;93:5762:0;;;;;;', 'userdoc': {'kind': 'user', 'methods': {}, 'version': 1}, 'devdoc': {'kind': 'dev', 'methods': {}, 'version': 1}, 'methodIdentifiers': {'completeProject()': '0xfc0e9739', 'contribute()': '0xd7bb99ba', 'contributors(uint256)': '0x3cb5d100', 'fundingGoalReached()': '0xd424f628', 'getContributorCount()': '0x253da8bd', 'getContributors()': '0xaf157c19', 'goalAmount()': '0x2636b945', 'isOwner()': '0x8f32d59b', 'projectCompleted()': '0xc6221878', 'projectOwner()': '0xa4475ce4', 'refundContributors()': '0x56c7f461', 'totalFunding()': '0xfe47a8a7', 'withdrawFunds()': '0x24600fc3'}}\n",
      "['contractName', 'sourceId', 'deploymentBytecode', 'runtimeBytecode', 'abi', 'sourcemap', 'userdoc', 'devdoc', 'methodIdentifiers']\n"
     ]
    },
    {
     "data": {
      "text/plain": [
       "'0x33473533dBFb294d54CCeDD8fc4301854DfD1948'"
      ]
     },
     "execution_count": 4,
     "metadata": {},
     "output_type": "execute_result"
    }
   ],
   "source": [
    "with networks.parse_network_choice(\"ethereum:local:ganache\") as provider:\n",
    "    js = project.CF.contract_type.dict()\n",
    "    # [\"abi\"]\n",
    "    print(js)\n",
    "    print(list(js.keys()))\n",
    "\n",
    "\n",
    "ExampleContract = w3.eth.contract(abi=js[\"abi\"], bytecode=js[\"deploymentBytecode\"][\"bytecode\"])\n",
    "tx_hash = ExampleContract.constructor(w3.to_wei(3,\"ether\")).transact()\n",
    "tx_receipt = w3.eth.wait_for_transaction_receipt(tx_hash)\n",
    "\n",
    "\n",
    "contract = w3.eth.contract(address=tx_receipt.contractAddress, abi=js[\"abi\"])\n",
    "\n",
    "contract.functions.isOwner().call()"
   ]
  },
  {
   "cell_type": "code",
   "execution_count": 5,
   "metadata": {},
   "outputs": [
    {
     "data": {
      "text/plain": [
       "798558"
      ]
     },
     "execution_count": 5,
     "metadata": {},
     "output_type": "execute_result"
    }
   ],
   "source": [
    "# Get deployment bytecode\n",
    "# deploy_bytecode = w3.eth.contract(abi=[]).constructor().buildTransaction({'data': contract_bytecode})['data']\n",
    "\n",
    "# Estimate gas \n",
    "# gas_estimate = w3.eth.estimate_gas({\n",
    "#   'from': w3.eth.accounts[0], \n",
    "#   'data': js[\"deploymentBytecode\"][\"bytecode\"]\n",
    "# })\n",
    "# w3.eth.estimate_gas(tx_receipt)\n",
    "ExampleContract.constructor(1).estimate_gas()"
   ]
  },
  {
   "cell_type": "code",
   "execution_count": 4,
   "metadata": {},
   "outputs": [
    {
     "name": "stdout",
     "output_type": "stream",
     "text": [
      "{'blockHash': HexBytes('0x57f2960b5aebe9f0d992fdc5fe5f0dbfdd41df1e5bf96834049368ca42c8395c'),\n",
      " 'blockNumber': 280,\n",
      " 'contractAddress': None,\n",
      " 'cumulativeGasUsed': 137788,\n",
      " 'effectiveGasPrice': 20000000000,\n",
      " 'from': '0xC15c7c758Ff39775779917370BED67b420DB7cdf',\n",
      " 'gasUsed': 137788,\n",
      " 'logs': [AttributeDict({'address': '0x20b1Ee7d3Bf87228f6472a96958121Db49Da8aE1', 'blockHash': HexBytes('0x57f2960b5aebe9f0d992fdc5fe5f0dbfdd41df1e5bf96834049368ca42c8395c'), 'blockNumber': 280, 'data': HexBytes('0x000000000000000000000000c15c7c758ff39775779917370bed67b420db7cdf0000000000000000000000000000000000000000000000000de0b6b3a7640000'), 'logIndex': 0, 'removed': False, 'topics': [HexBytes('0x23bac35767dec08bf219a302474bbc6687dfaaf3776a62d45bb7811de040e26d')], 'transactionHash': HexBytes('0x80bd7b750b750d4c2ef02693c352f874158556ac52419ee31e632472b2ab38db'), 'transactionIndex': 0})],\n",
      " 'logsBloom': HexBytes('0x00000004000000000000000000000000080000000000000000000000000000000000000000000000000000000000000000000000000000100000000000000000000000000000000000000000000000000000000040000000000000000000000000000000000000000000000000000000000000000000000000000000000000000000000000000000000000000000000000000000000000000000000000000000000000000000000000000000000000000000000000000000000000000000001000000000000000000000000000000000000000000000000000800000000000000000000000000000000000000000000000000000000000000000000000000000'),\n",
      " 'status': 1,\n",
      " 'to': '0x20b1Ee7d3Bf87228f6472a96958121Db49Da8aE1',\n",
      " 'transactionHash': HexBytes('0x80bd7b750b750d4c2ef02693c352f874158556ac52419ee31e632472b2ab38db'),\n",
      " 'transactionIndex': 0,\n",
      " 'type': 0}\n",
      "{'blockHash': HexBytes('0xc21f1cf810bf10c6d428fcc29f333170f56f3363477fe47e8c5a565df0440b15'),\n",
      " 'blockNumber': 281,\n",
      " 'contractAddress': None,\n",
      " 'cumulativeGasUsed': 103588,\n",
      " 'effectiveGasPrice': 20000000000,\n",
      " 'from': '0x3f31f6284EAC0d0C3bf86E1C1E9649D8FDDf59D4',\n",
      " 'gasUsed': 103588,\n",
      " 'logs': [AttributeDict({'address': '0x20b1Ee7d3Bf87228f6472a96958121Db49Da8aE1', 'blockHash': HexBytes('0xc21f1cf810bf10c6d428fcc29f333170f56f3363477fe47e8c5a565df0440b15'), 'blockNumber': 281, 'data': HexBytes('0x0000000000000000000000003f31f6284eac0d0c3bf86e1c1e9649d8fddf59d40000000000000000000000000000000000000000000000000de0b6b3a7640000'), 'logIndex': 0, 'removed': False, 'topics': [HexBytes('0x23bac35767dec08bf219a302474bbc6687dfaaf3776a62d45bb7811de040e26d')], 'transactionHash': HexBytes('0x80242625c16d25cff0c6a1066868d59c1d4222036f425daa431db1d636b5313e'), 'transactionIndex': 0})],\n",
      " 'logsBloom': HexBytes('0x00000004000000000000000000000000080000000000000000000000000000000000000000000000000000000000000000000000000000100000000000000000000000000000000000000000000000000000000040000000000000000000000000000000000000000000000000000000000000000000000000000000000000000000000000000000000000000000000000000000000000000000000000000000000000000000000000000000000000000000000000000000000000000000001000000000000000000000000000000000000000000000000000800000000000000000000000000000000000000000000000000000000000000000000000000000'),\n",
      " 'status': 1,\n",
      " 'to': '0x20b1Ee7d3Bf87228f6472a96958121Db49Da8aE1',\n",
      " 'transactionHash': HexBytes('0x80242625c16d25cff0c6a1066868d59c1d4222036f425daa431db1d636b5313e'),\n",
      " 'transactionIndex': 0,\n",
      " 'type': 0}\n"
     ]
    }
   ],
   "source": [
    "import pprint\n",
    "\n",
    "amount = 1\n",
    "# account = \"0xDc541B8b0e326bdf734744f497713A7cb2255b0F\"\n",
    "# private_key = \"0x0aa622a36df1c7db6007e8d03f7b42fe1d7224cfc1cd1fc6cf7351003c70a668\"\n",
    "# w3.eth.default_account = account\n",
    "\n",
    "# nonce = w3.eth.get_transaction_count(w3.eth.accounts[1])\n",
    "\n",
    "contributors = [w3.eth.accounts[1],w3.eth.accounts[2]]\n",
    "\n",
    "for contributor in contributors:\n",
    "\n",
    "    tx = {\n",
    "            \"chainId\": w3.eth.chain_id,  # Replace with the chain ID of your network\n",
    "            \"from\": contributor,\n",
    "            # \"to\": tx_receipt.contractAddress,\n",
    "            \"value\": w3.to_wei(amount, \"ether\"),\n",
    "            # \"gas\": gas,\n",
    "            # \"gasPrice\": gasPrice,\n",
    "            \"gas\": 200000,  # Specify the gas limit\n",
    "            \"gasPrice\": w3.to_wei(\"20\", \"gwei\"),  # Specify the gas price\n",
    "            # \"nonce\": nonce,\n",
    "        }\n",
    "\n",
    "    tx_hash = contract.functions.contribute().transact(tx)\n",
    "    tx_receipt = w3.eth.wait_for_transaction_receipt(tx_hash)\n",
    "    pprint.pprint(dict(tx_receipt))\n",
    "\n",
    "# transaction = contract.functions.contribute().build_transaction(tx)\n",
    "\n",
    "# signed_transaction = w3.eth.account.sign_transaction(transaction, private_key)\n",
    "# transaction_hash = w3.eth.send_raw_transaction(signed_transaction.rawTransaction)\n",
    "\n",
    "# # Render the result template with the transaction hash\n",
    "# transaction_hash=transaction_hash.hex()\n",
    "# transaction_hash"
   ]
  },
  {
   "cell_type": "code",
   "execution_count": 5,
   "metadata": {},
   "outputs": [
    {
     "name": "stdout",
     "output_type": "stream",
     "text": [
      "execution reverted: VM Exception while processing transaction: revert Funding goal has not been reached.\n"
     ]
    }
   ],
   "source": [
    "try:\n",
    "    tx_hash=contract.functions.completeProject().transact()\n",
    "    tx_receipt = w3.eth.wait_for_transaction_receipt(tx_hash)\n",
    "    print(tx_receipt)\n",
    "except Exception as e:\n",
    "    print(e)"
   ]
  },
  {
   "cell_type": "code",
   "execution_count": 6,
   "metadata": {},
   "outputs": [
    {
     "name": "stdout",
     "output_type": "stream",
     "text": [
      "contractAddress: 0x20b1Ee7d3Bf87228f6472a96958121Db49Da8aE1\n",
      "Project Owner: 0xDc541B8b0e326bdf734744f497713A7cb2255b0F\n",
      "Default Account: 0xDc541B8b0e326bdf734744f497713A7cb2255b0F\n",
      "Goal Amount: 3000000000000000000 Wei\n",
      "Goal Amount: 3 Ether\n",
      "Total Funding: 2000000000000000000 Wei\n",
      "Total Funding: 2 Ether\n",
      "Funding Goal Reached: False\n",
      "Project Completed: False\n",
      "getContributorCount:  2\n",
      "contributors:::::\n",
      "0xC15c7c758Ff39775779917370BED67b420DB7cdf 1000000000000000000 1699773381\n",
      "0x3f31f6284EAC0d0C3bf86E1C1E9649D8FDDf59D4 1000000000000000000 1699773381\n"
     ]
    }
   ],
   "source": [
    "# Example: Check crowdfunding status\n",
    "def check_crowdfunding_status():\n",
    "    project_owner = contract.functions.projectOwner().call()\n",
    "    goal_amount = contract.functions.goalAmount().call()\n",
    "    total_funding = contract.functions.totalFunding().call()\n",
    "    funding_goal_reached = contract.functions.fundingGoalReached().call()\n",
    "    project_completed = contract.functions.projectCompleted().call()\n",
    "\n",
    "    print(\"contractAddress:\", contract.address)\n",
    "    print(f\"Project Owner: {project_owner}\")\n",
    "    print(f\"Default Account: {w3.eth.default_account}\")\n",
    "    print(f\"Goal Amount: {goal_amount} Wei\")\n",
    "    print(f\"Goal Amount: {w3.from_wei(goal_amount,'ether')} Ether\")\n",
    "    print(f\"Total Funding: {total_funding} Wei\")\n",
    "    print(f\"Total Funding: {w3.from_wei(total_funding,'ether')} Ether\")\n",
    "\n",
    "    print(f\"Funding Goal Reached: {funding_goal_reached}\")\n",
    "    print(f\"Project Completed: {project_completed}\")\n",
    "    print(\"getContributorCount: \", contract.functions.getContributorCount().call())\n",
    "    # print(\"getContributorAtIndex:\",contract.functions.getContributors().call())\n",
    "    (\n",
    "        contributor_addresses,\n",
    "        contribution_amounts,\n",
    "        contribution_datetime,\n",
    "    ) = contract.functions.getContributors().call()\n",
    "    print(\"contributors:::::\")\n",
    "    for i in range(len(contributor_addresses)):\n",
    "        # contributors_dict[contributor_addresses[i].hex()] = contribution_amounts[i]\n",
    "        print(\n",
    "            contributor_addresses[i], contribution_amounts[i], contribution_datetime[i]\n",
    "        )\n",
    "\n",
    "\n",
    "check_crowdfunding_status()"
   ]
  },
  {
   "cell_type": "code",
   "execution_count": 7,
   "metadata": {},
   "outputs": [
    {
     "name": "stdout",
     "output_type": "stream",
     "text": [
      "{'blockHash': HexBytes('0xf510c83fd250124d28e3a97c03ef47d37a35e510a59cbc3cd6464b8d1bb03725'),\n",
      " 'blockNumber': 282,\n",
      " 'contractAddress': None,\n",
      " 'cumulativeGasUsed': 61375,\n",
      " 'effectiveGasPrice': 10,\n",
      " 'from': '0xDc541B8b0e326bdf734744f497713A7cb2255b0F',\n",
      " 'gasUsed': 61375,\n",
      " 'logs': [AttributeDict({'address': '0x20b1Ee7d3Bf87228f6472a96958121Db49Da8aE1', 'blockHash': HexBytes('0xf510c83fd250124d28e3a97c03ef47d37a35e510a59cbc3cd6464b8d1bb03725'), 'blockNumber': 282, 'data': HexBytes('0x000000000000000000000000c15c7c758ff39775779917370bed67b420db7cdf0000000000000000000000000000000000000000000000000de0b6b3a76400000000000000000000000000000000000000000000000000000000000065507bc5'), 'logIndex': 0, 'removed': False, 'topics': [HexBytes('0x0754663d79ddf47e96611d36d595a38ce0918960aa5965913d75c482d0477ed6')], 'transactionHash': HexBytes('0x940d50ed845c7ce1c29b69be1c7e4f7feb78fd115891f12756e62a32c9d18de7'), 'transactionIndex': 0}),\n",
      "          AttributeDict({'address': '0x20b1Ee7d3Bf87228f6472a96958121Db49Da8aE1', 'blockHash': HexBytes('0xf510c83fd250124d28e3a97c03ef47d37a35e510a59cbc3cd6464b8d1bb03725'), 'blockNumber': 282, 'data': HexBytes('0x0000000000000000000000003f31f6284eac0d0c3bf86e1c1e9649d8fddf59d40000000000000000000000000000000000000000000000000de0b6b3a76400000000000000000000000000000000000000000000000000000000000065507bc5'), 'logIndex': 1, 'removed': False, 'topics': [HexBytes('0x0754663d79ddf47e96611d36d595a38ce0918960aa5965913d75c482d0477ed6')], 'transactionHash': HexBytes('0x940d50ed845c7ce1c29b69be1c7e4f7feb78fd115891f12756e62a32c9d18de7'), 'transactionIndex': 0})],\n",
      " 'logsBloom': HexBytes('0x00000004010000000000000000000000000000000000000000000000000000000000000000000000000000000000000000000000000400100000000000000001000000000000000000000000000000000000000000000000000000000000000000000000000000000000000000000000000000000000000000000000000000000000000000000000000000000000000000000000000000000000000000000000000000000000000000000000000000000000000000000000000000000000000000000000000000000000000000000000000000000000000000800000000000000000000000000000000000000000000000000000000000000000000000000000'),\n",
      " 'status': 1,\n",
      " 'to': '0x20b1Ee7d3Bf87228f6472a96958121Db49Da8aE1',\n",
      " 'transactionHash': HexBytes('0x940d50ed845c7ce1c29b69be1c7e4f7feb78fd115891f12756e62a32c9d18de7'),\n",
      " 'transactionIndex': 0,\n",
      " 'type': 2}\n"
     ]
    }
   ],
   "source": [
    "try:\n",
    "    tx_hash=contract.functions.refundContributors().transact()\n",
    "    tx_receipt = w3.eth.wait_for_transaction_receipt(tx_hash)\n",
    "    pprint.pprint(dict(tx_receipt))\n",
    "except Exception as e:\n",
    "    print(e)"
   ]
  },
  {
   "cell_type": "code",
   "execution_count": 8,
   "metadata": {},
   "outputs": [],
   "source": [
    "# tx_hash=contract.functions.withdrawFunds().transact()\n",
    "# tx_receipt = w3.eth.wait_for_transaction_receipt(tx_hash)\n",
    "# tx_receipt"
   ]
  },
  {
   "cell_type": "code",
   "execution_count": 9,
   "metadata": {},
   "outputs": [],
   "source": [
    "# tx_hash=contract.functions.contributions().call()\n",
    "# tx_receipt = w3.eth.wait_for_transaction_receipt(tx_hash)\n",
    "# tx_receipt"
   ]
  },
  {
   "cell_type": "code",
   "execution_count": 10,
   "metadata": {},
   "outputs": [
    {
     "data": {
      "text/plain": [
       "AttributeDict({'address': '0x20b1Ee7d3Bf87228f6472a96958121Db49Da8aE1',\n",
       " 'blockHash': HexBytes('0xf510c83fd250124d28e3a97c03ef47d37a35e510a59cbc3cd6464b8d1bb03725'),\n",
       " 'blockNumber': 282,\n",
       " 'data': HexBytes('0x000000000000000000000000c15c7c758ff39775779917370bed67b420db7cdf0000000000000000000000000000000000000000000000000de0b6b3a76400000000000000000000000000000000000000000000000000000000000065507bc5'),\n",
       " 'logIndex': 0,\n",
       " 'removed': False,\n",
       " 'topics': [HexBytes('0x0754663d79ddf47e96611d36d595a38ce0918960aa5965913d75c482d0477ed6')],\n",
       " 'transactionHash': HexBytes('0x940d50ed845c7ce1c29b69be1c7e4f7feb78fd115891f12756e62a32c9d18de7'),\n",
       " 'transactionIndex': 0})"
      ]
     },
     "execution_count": 10,
     "metadata": {},
     "output_type": "execute_result"
    }
   ],
   "source": [
    "tx_receipt[\"logs\"][0]"
   ]
  },
  {
   "cell_type": "code",
   "execution_count": 11,
   "metadata": {},
   "outputs": [
    {
     "data": {
      "text/plain": [
       "'0x940d50ed845c7ce1c29b69be1c7e4f7feb78fd115891f12756e62a32c9d18de7'"
      ]
     },
     "execution_count": 11,
     "metadata": {},
     "output_type": "execute_result"
    }
   ],
   "source": [
    "tx_receipt[\"logs\"][0][\"transactionHash\"].hex()"
   ]
  },
  {
   "cell_type": "code",
   "execution_count": 12,
   "metadata": {},
   "outputs": [
    {
     "data": {
      "text/plain": [
       "(AttributeDict({'args': AttributeDict({'contributor': '0xC15c7c758Ff39775779917370BED67b420DB7cdf',\n",
       "   'amount': 1000000000000000000,\n",
       "   'timestamp': 1699773381}),\n",
       "  'event': 'RefundedContributor',\n",
       "  'logIndex': 0,\n",
       "  'transactionIndex': 0,\n",
       "  'transactionHash': HexBytes('0x940d50ed845c7ce1c29b69be1c7e4f7feb78fd115891f12756e62a32c9d18de7'),\n",
       "  'address': '0x20b1Ee7d3Bf87228f6472a96958121Db49Da8aE1',\n",
       "  'blockHash': HexBytes('0xf510c83fd250124d28e3a97c03ef47d37a35e510a59cbc3cd6464b8d1bb03725'),\n",
       "  'blockNumber': 282}),\n",
       " AttributeDict({'args': AttributeDict({'contributor': '0x3f31f6284EAC0d0C3bf86E1C1E9649D8FDDf59D4',\n",
       "   'amount': 1000000000000000000,\n",
       "   'timestamp': 1699773381}),\n",
       "  'event': 'RefundedContributor',\n",
       "  'logIndex': 1,\n",
       "  'transactionIndex': 0,\n",
       "  'transactionHash': HexBytes('0x940d50ed845c7ce1c29b69be1c7e4f7feb78fd115891f12756e62a32c9d18de7'),\n",
       "  'address': '0x20b1Ee7d3Bf87228f6472a96958121Db49Da8aE1',\n",
       "  'blockHash': HexBytes('0xf510c83fd250124d28e3a97c03ef47d37a35e510a59cbc3cd6464b8d1bb03725'),\n",
       "  'blockNumber': 282}))"
      ]
     },
     "execution_count": 12,
     "metadata": {},
     "output_type": "execute_result"
    }
   ],
   "source": [
    "contract.events.RefundedContributor().get_logs()"
   ]
  },
  {
   "cell_type": "code",
   "execution_count": null,
   "metadata": {},
   "outputs": [],
   "source": []
  }
 ],
 "metadata": {
  "kernelspec": {
   "display_name": "myvenv",
   "language": "python",
   "name": "python3"
  },
  "language_info": {
   "codemirror_mode": {
    "name": "ipython",
    "version": 3
   },
   "file_extension": ".py",
   "mimetype": "text/x-python",
   "name": "python",
   "nbconvert_exporter": "python",
   "pygments_lexer": "ipython3",
   "version": "3.12.3"
  }
 },
 "nbformat": 4,
 "nbformat_minor": 2
}
